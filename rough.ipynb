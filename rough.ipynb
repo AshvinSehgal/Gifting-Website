{
 "cells": [
  {
   "cell_type": "code",
   "execution_count": null,
   "id": "6c93d944",
   "metadata": {},
   "outputs": [
    {
     "name": "stdout",
     "output_type": "stream",
     "text": [
      "[(1, 'alsf', 'sdasdmac@mdnf', 'scrypt:32768:8:1$MOcWJ0bpvlphlYVc$00a1a78264dcc4e73dace4522e322f8b84020d09dc901f79e25314b72959bead9f6392a89a7985747c8e4ad35d0ca4be7157aa26234845093dbcade6d06fe0fb', None, None)]\n"
     ]
    }
   ],
   "source": [
    "import sqlite3\n",
    "conn = sqlite3.connect('inventory.db')\n",
    "cursor = conn.cursor()\n",
    "users = cursor.execute(\"SELECT * FROM users\").fetchall()\n",
    "print(users)"
   ]
  },
  {
   "cell_type": "code",
   "execution_count": null,
   "id": "7fa6aa8f",
   "metadata": {},
   "outputs": [],
   "source": []
  }
 ],
 "metadata": {
  "kernelspec": {
   "display_name": "Python 3",
   "language": "python",
   "name": "python3"
  },
  "language_info": {
   "codemirror_mode": {
    "name": "ipython",
    "version": 3
   },
   "file_extension": ".py",
   "mimetype": "text/x-python",
   "name": "python",
   "nbconvert_exporter": "python",
   "pygments_lexer": "ipython3",
   "version": "3.9.6"
  }
 },
 "nbformat": 4,
 "nbformat_minor": 5
}
